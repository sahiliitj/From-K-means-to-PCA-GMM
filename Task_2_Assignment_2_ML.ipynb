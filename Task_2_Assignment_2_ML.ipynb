{
  "cells": [
    {
      "cell_type": "code",
      "execution_count": 5,
      "metadata": {
        "colab": {
          "base_uri": "https://localhost:8080/"
        },
        "id": "My2TApwgV8-j",
        "outputId": "ee47c5bd-3559-4110-8fbc-d57a12b46c6c"
      },
      "outputs": [
        {
          "output_type": "stream",
          "name": "stdout",
          "text": [
            "Mounted at /content/drive\n"
          ]
        }
      ],
      "source": [
        "from google.colab import drive\n",
        "drive.mount('/content/drive')\n"
      ]
    },
    {
      "cell_type": "code",
      "execution_count": 6,
      "metadata": {
        "id": "CmE54vCCWFl_"
      },
      "outputs": [],
      "source": [
        "import pandas as pd\n",
        "import numpy as np"
      ]
    },
    {
      "cell_type": "code",
      "execution_count": 7,
      "metadata": {
        "id": "M0Ey80UYWWyY"
      },
      "outputs": [],
      "source": [
        "tr_dp = '/content/drive/MyDrive/ML/mnist_train.csv'\n",
        "ts_dp = '/content/drive/MyDrive/ML/mnist_test.csv'"
      ]
    },
    {
      "cell_type": "code",
      "execution_count": 8,
      "metadata": {
        "id": "_3iFMLpzWWub"
      },
      "outputs": [],
      "source": [
        "d_tr = pd.read_csv(tr_dp)\n",
        "d_ts = pd.read_csv(ts_dp)"
      ]
    },
    {
      "cell_type": "code",
      "execution_count": 9,
      "metadata": {
        "colab": {
          "base_uri": "https://localhost:8080/"
        },
        "id": "Ywg4mSfoWWrm",
        "outputId": "e6f74645-2e01-4fa0-f889-d6e84094acac"
      },
      "outputs": [
        {
          "output_type": "stream",
          "name": "stdout",
          "text": [
            " Here is the sample data for both the datasets (training and testing )\n",
            "\n",
            " TRAINING DATA SET\n",
            "\n",
            "   label  1x1  1x2  1x3  1x4  1x5  1x6  1x7  1x8  1x9  ...  28x19  28x20  \\\n",
            "0      5    0    0    0    0    0    0    0    0    0  ...      0      0   \n",
            "1      0    0    0    0    0    0    0    0    0    0  ...      0      0   \n",
            "2      4    0    0    0    0    0    0    0    0    0  ...      0      0   \n",
            "3      1    0    0    0    0    0    0    0    0    0  ...      0      0   \n",
            "4      9    0    0    0    0    0    0    0    0    0  ...      0      0   \n",
            "5      2    0    0    0    0    0    0    0    0    0  ...      0      0   \n",
            "6      1    0    0    0    0    0    0    0    0    0  ...      0      0   \n",
            "7      3    0    0    0    0    0    0    0    0    0  ...      0      0   \n",
            "8      1    0    0    0    0    0    0    0    0    0  ...      0      0   \n",
            "9      4    0    0    0    0    0    0    0    0    0  ...      0      0   \n",
            "\n",
            "   28x21  28x22  28x23  28x24  28x25  28x26  28x27  28x28  \n",
            "0      0      0      0      0      0      0      0      0  \n",
            "1      0      0      0      0      0      0      0      0  \n",
            "2      0      0      0      0      0      0      0      0  \n",
            "3      0      0      0      0      0      0      0      0  \n",
            "4      0      0      0      0      0      0      0      0  \n",
            "5      0      0      0      0      0      0      0      0  \n",
            "6      0      0      0      0      0      0      0      0  \n",
            "7      0      0      0      0      0      0      0      0  \n",
            "8      0      0      0      0      0      0      0      0  \n",
            "9      0      0      0      0      0      0      0      0  \n",
            "\n",
            "[10 rows x 785 columns]\n",
            "\n",
            " TEST DATA SET\n",
            "\n",
            "   label  1x1  1x2  1x3  1x4  1x5  1x6  1x7  1x8  1x9  ...  28x19  28x20  \\\n",
            "0      7    0    0    0    0    0    0    0    0    0  ...      0      0   \n",
            "1      2    0    0    0    0    0    0    0    0    0  ...      0      0   \n",
            "2      1    0    0    0    0    0    0    0    0    0  ...      0      0   \n",
            "3      0    0    0    0    0    0    0    0    0    0  ...      0      0   \n",
            "4      4    0    0    0    0    0    0    0    0    0  ...      0      0   \n",
            "5      1    0    0    0    0    0    0    0    0    0  ...      0      0   \n",
            "6      4    0    0    0    0    0    0    0    0    0  ...      0      0   \n",
            "7      9    0    0    0    0    0    0    0    0    0  ...      0      0   \n",
            "8      5    0    0    0    0    0    0    0    0    0  ...      0      0   \n",
            "9      9    0    0    0    0    0    0    0    0    0  ...      0      0   \n",
            "\n",
            "   28x21  28x22  28x23  28x24  28x25  28x26  28x27  28x28  \n",
            "0      0      0      0      0      0      0      0      0  \n",
            "1      0      0      0      0      0      0      0      0  \n",
            "2      0      0      0      0      0      0      0      0  \n",
            "3      0      0      0      0      0      0      0      0  \n",
            "4      0      0      0      0      0      0      0      0  \n",
            "5      0      0      0      0      0      0      0      0  \n",
            "6      0      0      0      0      0      0      0      0  \n",
            "7      0      0      0      0      0      0      0      0  \n",
            "8      0      0      0      0      0      0      0      0  \n",
            "9      0      0      0      0      0      0      0      0  \n",
            "\n",
            "[10 rows x 785 columns]\n"
          ]
        }
      ],
      "source": [
        "print(\" Here is the sample data for both the datasets (training and testing )\")\n",
        "print(\"\\n TRAINING DATA SET\\n\")\n",
        "print(d_tr.head(10))\n",
        "print(\"\\n TEST DATA SET\\n\")\n",
        "print(d_ts.head(10))"
      ]
    },
    {
      "cell_type": "code",
      "execution_count": null,
      "metadata": {
        "id": "a_vTaPHQWWkf"
      },
      "outputs": [],
      "source": [
        "import seaborn as sns\n",
        "import matplotlib.pyplot as plt\n",
        "plt.figure(figsize = (10,8))\n",
        "sns.countplot(x = 'label', data = d_tr)\n",
        "plt.show()"
      ]
    },
    {
      "cell_type": "code",
      "execution_count": null,
      "metadata": {
        "id": "dvVrtpBEWWif"
      },
      "outputs": [],
      "source": [
        "import seaborn as sns\n",
        "import matplotlib.pyplot as plt\n",
        "plt.figure(figsize = (10,8))\n",
        "sns.countplot(x = 'label', data = d_ts)\n",
        "plt.show()"
      ]
    },
    {
      "cell_type": "code",
      "execution_count": null,
      "metadata": {
        "id": "hjY8xFh7WWey"
      },
      "outputs": [],
      "source": [
        "d_tr= d_tr.drop(columns=['label'])\n",
        "d_tr.describe()"
      ]
    },
    {
      "cell_type": "code",
      "execution_count": null,
      "metadata": {
        "id": "gotoHxyrWWdE"
      },
      "outputs": [],
      "source": [
        "corr_mat = d_tr.corr()\n",
        "plt.figure(figsize = (10,8))\n",
        "sns.heatmap(corr_mat, cmap = 'Accent', center = 0)"
      ]
    },
    {
      "cell_type": "code",
      "execution_count": 145,
      "metadata": {
        "id": "YyrlEfOuQHqx"
      },
      "outputs": [],
      "source": [
        "# Here we are converting the dataframes into the  numpy arrays\n",
        "# for the process of clustering (so as to store image in a single 1D array)\n",
        "d_tr = pd.read_csv(tr_dp)\n",
        "X = d_tr.values\n",
        "# As we have labels, so we will remove the first column of our dataset X\n",
        "X = X[:, 1:]"
      ]
    },
    {
      "cell_type": "code",
      "execution_count": 146,
      "metadata": {
        "colab": {
          "base_uri": "https://localhost:8080/"
        },
        "id": "qGZW2PwaXCEg",
        "outputId": "a83aa17c-0d81-4e1b-fba4-9df0f9445004"
      },
      "outputs": [
        {
          "name": "stdout",
          "output_type": "stream",
          "text": [
            "Please enter the desired number of principal components you want in PCA:- 128\n",
            "Please enter the desired number of clusters you want after PCA:- 4\n"
          ]
        }
      ],
      "source": [
        "# In order to achieve the better results, lets normalize the data we have,\n",
        " # Normalizing the data points so that they fall in the range [0,1]\n",
        "n_cpt = int(input(\"Please enter the desired number of principal components you want in PCA:- \"))\n",
        "k_clust = int(input(\"Please enter the desired number of clusters you want after PCA:- \"))"
      ]
    },
    {
      "cell_type": "code",
      "execution_count": 147,
      "metadata": {
        "id": "gW9-ldHdQLTK",
        "colab": {
          "base_uri": "https://localhost:8080/"
        },
        "outputId": "5bf97e94-1f61-46e9-8e02-e219bd3c6615"
      },
      "outputs": [
        {
          "output_type": "stream",
          "name": "stdout",
          "text": [
            "[[0 0 0 ... 0 0 0]\n",
            " [0 0 0 ... 0 0 0]\n",
            " [0 0 0 ... 0 0 0]\n",
            " ...\n",
            " [0 0 0 ... 0 0 0]\n",
            " [0 0 0 ... 0 0 0]\n",
            " [0 0 0 ... 0 0 0]]\n",
            "(60000, 784)\n"
          ]
        }
      ],
      "source": [
        "print(X)\n",
        "print(np.shape(X))"
      ]
    },
    {
      "cell_type": "code",
      "execution_count": 148,
      "metadata": {
        "id": "uTd_xnRjRQMb",
        "colab": {
          "base_uri": "https://localhost:8080/"
        },
        "outputId": "5b389f40-e78b-4e0f-8146-858dffcc359e"
      },
      "outputs": [
        {
          "output_type": "stream",
          "name": "stdout",
          "text": [
            "[3.85502675e+05 1.30874349e+05 1.20811503e+05 1.12183340e+05\n",
            " 1.04260891e+05 9.42606694e+04 8.65145038e+04 7.74167253e+04\n",
            " 7.69581680e+04 6.97232331e+04 6.61272739e+04 6.49572514e+04\n",
            " 5.94152295e+04 5.92384372e+04 5.72089502e+04 5.53554529e+04\n",
            " 5.30100452e+04 5.16275362e+04 4.94663619e+04 4.86966670e+04\n",
            " 4.68335879e+04 4.55128331e+04 4.43121641e+04 4.33773242e+04\n",
            " 4.26497193e+04 4.15688690e+04 4.09292825e+04 4.02215850e+04\n",
            " 3.91414810e+04 3.77017642e+04 3.68035262e+04 3.65200617e+04\n",
            " 3.52185422e+04 3.48565800e+04 3.42463961e+04 3.34621623e+04\n",
            " 3.22562848e+04 3.16794785e+04 3.14709153e+04 3.11819102e+04\n",
            " 3.06712910e+04 3.02531441e+04 2.94011049e+04 2.86237047e+04\n",
            " 2.81603293e+04 2.77819974e+04 2.72923695e+04 2.68999335e+04\n",
            " 2.64777475e+04 2.57800238e+04 2.56764363e+04 2.53844283e+04\n",
            " 2.46774444e+04 2.45230293e+04 2.41801987e+04 2.36453558e+04\n",
            " 2.35832221e+04 2.30725588e+04 2.28491077e+04 2.24403138e+04\n",
            " 2.22635818e+04 2.21896026e+04 2.17723677e+04 2.13500557e+04\n",
            " 2.09694086e+04 2.06809997e+04 2.04433949e+04 2.01381298e+04\n",
            " 1.99179288e+04 1.96996785e+04 1.96123782e+04 1.93812527e+04\n",
            " 1.91117292e+04 1.89705217e+04 1.84657712e+04 1.83663658e+04\n",
            " 1.82279928e+04 1.78690400e+04 1.74288500e+04 1.71616730e+04\n",
            " 1.70967178e+04 1.70566776e+04 1.69808790e+04 1.67212127e+04\n",
            " 1.65983236e+04 1.65092399e+04 1.63892956e+04 1.60957058e+04\n",
            " 1.59166473e+04 1.58211450e+04 1.55310405e+04 1.53767692e+04\n",
            " 1.52736125e+04 1.51035053e+04 1.49792401e+04 1.48321478e+04\n",
            " 1.46403696e+04 1.46321491e+04 1.44370512e+04 1.43829421e+04\n",
            " 1.42283535e+04 1.39833240e+04 1.39246450e+04 1.37297739e+04\n",
            " 1.36662534e+04 1.35928217e+04 1.33423031e+04 1.32775100e+04\n",
            " 1.31901906e+04 1.30078390e+04 1.27837946e+04 1.27253697e+04\n",
            " 1.27136882e+04 1.25897153e+04 1.25377331e+04 1.24569111e+04\n",
            " 1.23110235e+04 1.22317260e+04 1.21670785e+04 1.20584673e+04\n",
            " 1.19753934e+04 1.19428743e+04 1.18558604e+04 1.17765450e+04\n",
            " 1.17137031e+04 1.15236118e+04 1.14370272e+04 1.14005671e+04\n",
            " 1.13428984e+04 1.11596418e+04 1.11493573e+04 1.10584606e+04\n",
            " 1.10016478e+04 1.09862347e+04 1.09355388e+04 1.08955959e+04\n",
            " 1.07846654e+04 1.06839161e+04 1.04933564e+04 1.04034782e+04\n",
            " 1.03941678e+04 1.02466817e+04 1.01717656e+04 1.01526369e+04\n",
            " 1.01312029e+04 1.00507284e+04 1.00052162e+04 9.96677950e+03\n",
            " 9.87529499e+03 9.81750392e+03 9.79741122e+03 9.76266708e+03\n",
            " 9.72016662e+03 9.62528991e+03 9.60898371e+03 9.54320279e+03\n",
            " 9.47777392e+03 9.37805479e+03 9.35507462e+03 9.31806003e+03\n",
            " 9.24665783e+03 9.17975018e+03 9.08032021e+03 9.04708430e+03\n",
            " 9.00448458e+03 8.96417285e+03 8.91179268e+03 8.84200962e+03\n",
            " 8.83135345e+03 8.77443463e+03 8.71848435e+03 8.66722324e+03\n",
            " 8.65099250e+03 8.60403180e+03 8.54126869e+03 8.52129381e+03\n",
            " 8.45360959e+03 8.43633418e+03 8.38112436e+03 8.33669814e+03\n",
            " 8.33223264e+03 8.24213950e+03 8.22715573e+03 8.18808993e+03\n",
            " 8.15071713e+03 8.12947326e+03 8.08026992e+03 8.06483387e+03\n",
            " 7.99881945e+03 7.97964405e+03 7.93540467e+03 7.90038802e+03\n",
            " 7.88772244e+03 7.87711536e+03 7.81489241e+03 7.79996387e+03\n",
            " 7.76976266e+03 7.76045934e+03 7.69368143e+03 7.64859866e+03\n",
            " 7.61592776e+03 7.57733824e+03 7.53165085e+03 7.48673173e+03\n",
            " 7.44486831e+03 7.42094988e+03 7.38642751e+03 7.37396671e+03\n",
            " 7.33976753e+03 7.30577161e+03 7.29470194e+03 7.26985284e+03\n",
            " 7.23923113e+03 7.21258683e+03 7.20430449e+03 7.16592646e+03\n",
            " 7.15005489e+03 7.11587236e+03 7.08443889e+03 7.05360742e+03\n",
            " 7.04051922e+03 7.03285108e+03 7.00169851e+03 6.98067276e+03\n",
            " 6.91688744e+03 6.89797030e+03 6.88075632e+03 6.84974525e+03\n",
            " 6.84238249e+03 6.76972141e+03 6.75564371e+03 6.73449266e+03\n",
            " 6.69459215e+03 6.67590394e+03 6.65444845e+03 6.63889444e+03\n",
            " 6.61729155e+03 6.57838000e+03 6.56912523e+03 6.52482834e+03\n",
            " 6.48946034e+03 6.48229764e+03 6.43521916e+03 6.43040196e+03\n",
            " 6.39805692e+03 6.37674962e+03 6.34703445e+03 6.31389023e+03\n",
            " 6.30001980e+03 6.28118187e+03 6.27815474e+03 6.23655852e+03\n",
            " 6.21903968e+03 6.19215153e+03 6.18345892e+03 6.16260747e+03\n",
            " 6.14746878e+03 6.13798211e+03 6.11692666e+03 6.08284851e+03\n",
            " 6.04360532e+03 6.02878249e+03 6.01637404e+03 5.98110865e+03\n",
            " 5.97312313e+03 5.95967373e+03 5.93761896e+03 5.91442340e+03\n",
            " 5.90293852e+03 5.87883077e+03 5.85990884e+03 5.85155972e+03\n",
            " 5.81209947e+03 5.79909149e+03 5.78470584e+03 5.77101492e+03\n",
            " 5.75310029e+03 5.73419258e+03 5.71612923e+03 5.68931782e+03\n",
            " 5.67838846e+03 5.64520566e+03 5.62492162e+03 5.61133837e+03\n",
            " 5.59301966e+03 5.55570789e+03 5.54955934e+03 5.52194954e+03\n",
            " 5.51186973e+03 5.48264612e+03 5.45490461e+03 5.42908538e+03\n",
            " 5.41891903e+03 5.40606570e+03 5.39989689e+03 5.37589680e+03\n",
            " 5.33263739e+03 5.32754799e+03 5.30558234e+03 5.28885326e+03\n",
            " 5.28527657e+03 5.26047242e+03 5.24303001e+03 5.21768204e+03\n",
            " 5.18529614e+03 5.17502429e+03 5.15458106e+03 5.13360370e+03\n",
            " 5.12165339e+03 5.11589550e+03 5.09810509e+03 5.08840794e+03\n",
            " 5.06546176e+03 5.04173375e+03 5.02236177e+03 5.00090448e+03\n",
            " 4.98965370e+03 4.96776177e+03 4.95646678e+03 4.94662689e+03\n",
            " 4.92413363e+03 4.90744145e+03 4.89529644e+03 4.88708220e+03\n",
            " 4.85401581e+03 4.84718971e+03 4.80865869e+03 4.78481762e+03\n",
            " 4.76857942e+03 4.76616892e+03 4.75821136e+03 4.73493180e+03\n",
            " 4.72079160e+03 4.70461898e+03 4.69198155e+03 4.67418921e+03\n",
            " 4.66818515e+03 4.64887067e+03 4.61242320e+03 4.58624437e+03\n",
            " 4.58167038e+03 4.55471088e+03 4.54163440e+03 4.52651488e+03\n",
            " 4.52126406e+03 4.49278764e+03 4.48062577e+03 4.46310485e+03\n",
            " 4.43292101e+03 4.41007449e+03 4.39287233e+03 4.39088453e+03\n",
            " 4.36194929e+03 4.34052473e+03 4.33609392e+03 4.31892975e+03\n",
            " 4.30457726e+03 4.28770871e+03 4.28252914e+03 4.26098129e+03\n",
            " 4.23850110e+03 4.21361247e+03 4.19570661e+03 4.18546378e+03\n",
            " 4.17171609e+03 4.13981841e+03 4.13149426e+03 4.11963959e+03\n",
            " 4.10500069e+03 4.08428320e+03 4.07952596e+03 4.04686949e+03\n",
            " 4.04323852e+03 4.02175673e+03 4.00720620e+03 3.99085752e+03\n",
            " 3.96932750e+03 3.94884517e+03 3.91767108e+03 3.89755431e+03\n",
            " 3.89021736e+03 3.87023922e+03 3.86756784e+03 3.85030231e+03\n",
            " 3.83287340e+03 3.81657513e+03 3.78526450e+03 3.77416693e+03\n",
            " 3.74857616e+03 3.73836671e+03 3.71419753e+03 3.69131493e+03\n",
            " 3.66344786e+03 3.63414728e+03 3.62018241e+03 3.61288595e+03\n",
            " 3.57243720e+03 3.55065034e+03 3.52250703e+03 3.51120719e+03\n",
            " 3.49503783e+03 3.47582406e+03 3.47257705e+03 3.43587730e+03\n",
            " 3.41644469e+03 3.40604605e+03 3.38250688e+03 3.36115720e+03\n",
            " 3.35593808e+03 3.34748654e+03 3.31246706e+03 3.29427664e+03\n",
            " 3.28776968e+03 3.27683085e+03 3.26617806e+03 3.24001857e+03\n",
            " 3.21929289e+03 3.19926674e+03 3.17702807e+03 3.16513653e+03\n",
            " 3.14038928e+03 3.11625699e+03 3.09813167e+03 3.09099367e+03\n",
            " 3.06276908e+03 3.03947037e+03 2.99870675e+03 2.97179181e+03\n",
            " 2.96056746e+03 2.95279872e+03 2.94543821e+03 2.93182475e+03\n",
            " 2.91781383e+03 2.89867803e+03 2.87877868e+03 2.81745179e+03\n",
            " 2.80533995e+03 2.80108637e+03 2.79163356e+03 2.77122692e+03\n",
            " 2.76162890e+03 2.74352064e+03 2.71239761e+03 2.69691914e+03\n",
            " 2.69294830e+03 2.67839160e+03 2.66597310e+03 2.65949935e+03\n",
            " 2.62129973e+03 2.60542444e+03 2.57360971e+03 2.56332364e+03\n",
            " 2.55123027e+03 2.52580632e+03 2.50140540e+03 2.49078432e+03\n",
            " 2.48030953e+03 2.45140523e+03 2.43682165e+03 2.42215732e+03\n",
            " 2.40278602e+03 2.39598859e+03 2.37926824e+03 2.35448134e+03\n",
            " 2.30257989e+03 2.28096758e+03 2.27523641e+03 2.26003372e+03\n",
            " 2.25365059e+03 2.23838433e+03 2.23645358e+03 2.23342818e+03\n",
            " 2.20919943e+03 2.19170586e+03 2.18539806e+03 2.15225205e+03\n",
            " 2.14496146e+03 2.13305595e+03 2.09971771e+03 2.09300962e+03\n",
            " 2.08182045e+03 2.07134066e+03 2.04737045e+03 2.03288190e+03\n",
            " 2.02145294e+03 2.00920737e+03 2.00366676e+03 1.97504020e+03\n",
            " 1.94814467e+03 1.93421426e+03 1.92971706e+03 1.92212909e+03\n",
            " 1.90220396e+03 1.89244701e+03 1.83442003e+03 1.82398607e+03\n",
            " 1.82036481e+03 1.80877657e+03 1.78792530e+03 1.76860613e+03\n",
            " 1.76634229e+03 1.75550247e+03 1.74238878e+03 1.73175702e+03\n",
            " 1.71838774e+03 1.70772562e+03 1.69479035e+03 1.68424109e+03\n",
            " 1.67724190e+03 1.65621112e+03 1.64186882e+03 1.60684665e+03\n",
            " 1.59592528e+03 1.58330046e+03 1.57124587e+03 1.56540653e+03\n",
            " 1.55646751e+03 1.55341816e+03 1.52996531e+03 1.52577414e+03\n",
            " 1.52100574e+03 1.50443441e+03 1.49994156e+03 1.47461188e+03\n",
            " 1.47236957e+03 1.45090579e+03 1.43589663e+03 1.40344969e+03\n",
            " 1.38854937e+03 1.38024933e+03 1.37739680e+03 1.35091401e+03\n",
            " 1.34625557e+03 1.32950964e+03 1.29564523e+03 1.28046494e+03\n",
            " 1.27215454e+03 1.26135937e+03 1.25395358e+03 1.24849988e+03\n",
            " 1.24474439e+03 1.23116908e+03 1.22284942e+03 1.21265723e+03\n",
            " 1.19668472e+03 1.18975556e+03 1.17541206e+03 1.17011813e+03\n",
            " 1.15970695e+03 1.15366797e+03 1.12385899e+03 1.10428572e+03\n",
            " 1.08543981e+03 1.08071408e+03 1.06898771e+03 1.04900123e+03\n",
            " 1.04126226e+03 1.03251827e+03 1.01813681e+03 1.01372420e+03\n",
            " 1.00731717e+03 1.00406434e+03 9.94784430e+02 9.82881977e+02\n",
            " 9.75214879e+02 9.67981321e+02 9.29394392e+02 9.27834354e+02\n",
            " 9.08550525e+02 9.07274658e+02 9.00857232e+02 8.84147839e+02\n",
            " 8.81918917e+02 8.25432310e+02 8.16147337e+02 8.12979567e+02\n",
            " 8.08239155e+02 8.01122049e+02 7.96255067e+02 7.88943788e+02\n",
            " 7.87167444e+02 7.81724848e+02 7.79782177e+02 7.75636237e+02\n",
            " 7.59444516e+02 7.35343610e+02 7.24250825e+02 6.97013932e+02\n",
            " 6.90161855e+02 6.82302549e+02 6.79550315e+02 6.73899177e+02\n",
            " 6.65231000e+02 6.64514131e+02 6.57582702e+02 6.48079038e+02\n",
            " 6.21750463e+02 6.19403908e+02 6.17259852e+02 6.15968878e+02\n",
            " 6.08597539e+02 6.00736703e+02 5.76997422e+02 5.74668093e+02\n",
            " 5.56124515e+02 5.48224943e+02 5.39195381e+02 5.34409196e+02\n",
            " 5.20734213e+02 5.17781046e+02 5.14073503e+02 5.06444103e+02\n",
            " 4.79821686e+02 4.71003952e+02 4.64296724e+02 4.62886958e+02\n",
            " 4.61593991e+02 4.49285308e+02 4.45866025e+02 4.38449962e+02\n",
            " 4.34022242e+02 4.32607402e+02 4.30056964e+02 4.24364305e+02\n",
            " 4.13988630e+02 3.99569968e+02 3.91465751e+02 3.85344589e+02\n",
            " 3.70319528e+02 3.68391917e+02 3.61961436e+02 3.58725542e+02\n",
            " 3.58680863e+02 3.48652268e+02 3.46270988e+02 3.41493968e+02\n",
            " 3.39707329e+02 3.29648543e+02 3.27779154e+02 3.13402495e+02\n",
            " 3.11488005e+02 3.09659342e+02 2.98203073e+02 2.94088279e+02\n",
            " 2.89164715e+02 2.81013029e+02 2.72938235e+02 2.70865788e+02\n",
            " 2.53472222e+02 2.47104292e+02 2.39316093e+02 2.36839147e+02\n",
            " 2.30144441e+02 2.29277974e+02 2.22788328e+02 2.20196310e+02\n",
            " 2.17489321e+02 2.15305638e+02 2.10300145e+02 2.04126251e+02\n",
            " 2.03562834e+02 2.00883353e+02 1.90675529e+02 1.87678340e+02\n",
            " 1.76239786e+02 1.75505782e+02 1.67629928e+02 1.66834336e+02\n",
            " 1.62301317e+02 1.48394469e+02 1.39417940e+02 1.34426103e+02\n",
            " 1.30879237e+02 1.29623847e+02 1.18699397e+02 1.17606738e+02\n",
            " 1.14932136e+02 1.10715104e+02 1.06755416e+02 9.79205185e+01\n",
            " 9.72077975e+01 9.14464588e+01 8.99806158e+01 8.61093252e+01\n",
            " 8.56884643e+01 8.16416618e+01 7.96967785e+01 7.86211867e+01\n",
            " 7.71128985e+01 7.03007089e+01 6.22645818e+01 6.03849078e+01\n",
            " 5.84885232e+01 5.77361069e+01 4.78927776e+01 4.60455220e+01\n",
            " 4.55775497e+01 4.21696677e+01 4.04611748e+01 3.77192825e+01\n",
            " 3.76343440e+01 3.34281231e+01 3.19612729e+01 2.75818832e+01\n",
            " 2.49260723e+01 1.99777690e+01 1.33576686e+01 1.20699092e+01\n",
            " 1.19334704e+01 7.22137437e+00 6.97079176e+00 1.77442040e+00\n",
            " 1.78576019e-10 5.36908403e-11 3.08598513e-11 2.72532642e-11\n",
            " 2.72532642e-11 2.72532642e-11 2.72532642e-11 2.72532642e-11\n",
            " 2.72532642e-11 2.72532642e-11 2.72532642e-11 2.72532642e-11\n",
            " 2.72532642e-11 2.72532642e-11 2.72532642e-11 2.72532642e-11\n",
            " 2.72532642e-11 2.72532642e-11 2.72532642e-11 2.72532642e-11\n",
            " 2.72532642e-11 2.72532642e-11 2.72532642e-11 2.72532642e-11\n",
            " 2.72532642e-11 2.72532642e-11 2.72532642e-11 2.72532642e-11\n",
            " 2.72532642e-11 2.72532642e-11 2.72532642e-11 2.72532642e-11\n",
            " 2.72532642e-11 2.72532642e-11 2.72532642e-11 2.72532642e-11\n",
            " 2.72532642e-11 2.72532642e-11 2.72532642e-11 2.72532642e-11\n",
            " 2.72532642e-11 2.72532642e-11 2.72532642e-11 2.72532642e-11\n",
            " 2.72532642e-11 2.72532642e-11 2.72532642e-11 2.72532642e-11\n",
            " 2.72532642e-11 2.72532642e-11 2.72532642e-11 2.72532642e-11\n",
            " 2.72532642e-11 2.72532642e-11 2.72532642e-11 2.72532642e-11\n",
            " 2.72532642e-11 2.72532642e-11 2.72532642e-11 2.72532642e-11\n",
            " 2.72532642e-11 2.72532642e-11 2.72532642e-11 2.72532642e-11\n",
            " 2.72532642e-11 2.72532642e-11 2.72532642e-11 2.72532642e-11\n",
            " 2.72532642e-11 2.72532642e-11 2.70184949e-11 2.42526728e-11]\n",
            "[[3.85502675e+05 0.00000000e+00 0.00000000e+00 ... 0.00000000e+00\n",
            "  0.00000000e+00 0.00000000e+00]\n",
            " [0.00000000e+00 1.30874349e+05 0.00000000e+00 ... 0.00000000e+00\n",
            "  0.00000000e+00 0.00000000e+00]\n",
            " [0.00000000e+00 0.00000000e+00 1.20811503e+05 ... 0.00000000e+00\n",
            "  0.00000000e+00 0.00000000e+00]\n",
            " ...\n",
            " [0.00000000e+00 0.00000000e+00 0.00000000e+00 ... 2.72532642e-11\n",
            "  0.00000000e+00 0.00000000e+00]\n",
            " [0.00000000e+00 0.00000000e+00 0.00000000e+00 ... 0.00000000e+00\n",
            "  2.70184949e-11 0.00000000e+00]\n",
            " [0.00000000e+00 0.00000000e+00 0.00000000e+00 ... 0.00000000e+00\n",
            "  0.00000000e+00 2.42526728e-11]]\n"
          ]
        }
      ],
      "source": [
        "# Perform Singular Value Decomposition of the calculated Covariance Matrix\n",
        "# Here we are using the library for this purpose\n",
        "from scipy.linalg import svd\n",
        "U, sing_val, V_trans = svd(X, full_matrices = False)\n",
        "#Getting the singular values\n",
        "print(sing_val)\n",
        "#Designing the singular value Matrix\n",
        "sing_val_mat = np.diag(sing_val)\n",
        "print(sing_val_mat)"
      ]
    },
    {
      "cell_type": "code",
      "execution_count": 149,
      "metadata": {
        "id": "_oKJ6uKubo70"
      },
      "outputs": [],
      "source": [
        "sing_val_mat1 = sing_val_mat[0:n_cpt,:n_cpt]\n",
        "U = U[:,:n_cpt]\n",
        "V_trans=V_trans[:n_cpt,:]\n"
      ]
    },
    {
      "cell_type": "code",
      "execution_count": 150,
      "metadata": {
        "id": "JMXTYWzSha_3",
        "colab": {
          "base_uri": "https://localhost:8080/"
        },
        "outputId": "c64a5363-9dc0-479e-d588-6b188bdc7984"
      },
      "outputs": [
        {
          "output_type": "stream",
          "name": "stdout",
          "text": [
            "Therefore we have the projected data points onto a new sample space:-\n",
            " [[1657.04994779  -47.45183439  308.30484216 ...  -40.08712885\n",
            "    64.05597031    5.92625769]\n",
            " [1753.50134925  935.57155719  308.09585585 ...   -1.94382225\n",
            "   -20.38801887   10.59082153]\n",
            " [ 800.82830458  337.51707576 -376.98734004 ...    5.93822238\n",
            "   -16.03806261  -12.22636333]\n",
            " ...\n",
            " [1251.45316728 -142.12384764 -161.65538915 ...   63.83488172\n",
            "    60.60998237   36.67728859]\n",
            " [1118.7208112   327.74056266   14.82987948 ...  -39.33728651\n",
            "    48.71950382  -18.29428735]\n",
            " [1171.15316406 -133.70410776   21.41275109 ...  -36.025643\n",
            "    -9.08655882 -104.73032776]]\n",
            "\n",
            " The shape of projected data matrix onto new feature space is:-  (60000, 128)\n"
          ]
        }
      ],
      "source": [
        "# Now projecting the given data in matrix X onto the new space of reduced dimensionality\n",
        "reduced_X = np.dot(U, sing_val_mat1)\n",
        "org_X = np.dot(reduced_X,V_trans)\n",
        "print(\"Therefore we have the projected data points onto a new sample space:-\\n\", reduced_X)\n",
        "print(\"\\n The shape of projected data matrix onto new feature space is:- \",np.shape(reduced_X))"
      ]
    },
    {
      "cell_type": "code",
      "execution_count": 151,
      "metadata": {
        "colab": {
          "base_uri": "https://localhost:8080/",
          "height": 590
        },
        "id": "WoKALabCikxl",
        "outputId": "f266d06a-8f63-4605-9d7d-92016bbcf243"
      },
      "outputs": [
        {
          "output_type": "display_data",
          "data": {
            "text/plain": [
              "<Figure size 1000x1000 with 10 Axes>"
            ],
            "image/png": "[encoded data removed]"
          },
          "metadata": {}
        }
      ],
      "source": [
        "# In this section, we are trying to visualise the images after performing PCA\n",
        "import matplotlib.pyplot as plt\n",
        "num_img, num_img_in_row = 10,5\n",
        "num_row = (num_img + num_img_in_row - 1) // num_img_in_row\n",
        "fig = plt.figure(figsize = (10,10))\n",
        "for i in range(num_img):\n",
        "    image = org_X[i].reshape(28,28)\n",
        "    ax= fig.add_subplot(num_row,num_img_in_row, i+1)\n",
        "    ax.imshow(image, cmap='gray')\n",
        "    ax.axis(\"off\")\n",
        "plt.subplots_adjust(wspace=0.2, hspace=0.2)\n",
        "plt.show()"
      ]
    },
    {
      "cell_type": "code",
      "execution_count": 152,
      "metadata": {
        "id": "145-K3Ywi26q"
      },
      "outputs": [],
      "source": [
        "# Now we will do Gaussian Mixture Models using inbuilt library\n",
        "from sklearn.mixture import GaussianMixture as GM\n",
        "mixing_gm = GM(n_components = k_clust) #Applying GMM Method in this step\n",
        "mixing_gm.fit(reduced_X)\n",
        "clasfn = mixing_gm.predict(reduced_X)\n"
      ]
    },
    {
      "cell_type": "code",
      "execution_count": 153,
      "metadata": {
        "colab": {
          "base_uri": "https://localhost:8080/",
          "height": 601
        },
        "id": "4kfaWDg_kBqR",
        "outputId": "bdb2e7dc-2e56-40f3-f85b-79300cfa59c1"
      },
      "outputs": [
        {
          "output_type": "stream",
          "name": "stdout",
          "text": [
            "For 128 number of components in PCA and 4 number of clusters we have:- \n"
          ]
        },
        {
          "output_type": "display_data",
          "data": {
            "text/plain": [
              "<Figure size 1000x800 with 40 Axes>"
            ],
            "image/png": "[encoded data removed]"
          },
          "metadata": {}
        }
      ],
      "source": [
        "#Now after performing PCA and GMM, lets visualise how the cluster are looking now\n",
        "print(f\"For {n_cpt} number of components in PCA and {k_clust} number of clusters we have:- \" )\n",
        "import matplotlib.pyplot as plt\n",
        "plt.figure(figsize = (10,8))\n",
        "for i in range(k_clust):\n",
        "    images_of_cluster = org_X[clasfn == i]\n",
        "    for j in range(min(10,images_of_cluster.shape[0])):\n",
        "      plt.subplot(k_clust,10,i*10+j+1)\n",
        "      plt.imshow(images_of_cluster[0].reshape(28,28),cmap=\"gray\")\n",
        "      plt.axis(\"off\")\n",
        "plt.subplots_adjust(wspace=0.2, hspace=0.2)\n",
        "plt.show()"
      ]
    }
  ],
  "metadata": {
    "colab": {
      "provenance": []
    },
    "kernelspec": {
      "display_name": "Python 3",
      "name": "python3"
    },
    "language_info": {
      "name": "python"
    }
  },
  "nbformat": 4,
  "nbformat_minor": 0
}